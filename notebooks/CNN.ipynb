{
 "cells": [
  {
   "cell_type": "markdown",
   "id": "4e8c520d",
   "metadata": {},
   "source": [
    "## 1-D CNN for Chagas ECG detection\n",
    "\n",
    "This notebook adds a straightforward convolutional-neural-network baseline.  \n",
    "It treats each ECG as a 12-channel time-series, using stacked Conv1D blocks\n",
    "followed by global pooling and a dense sigmoid output.\n",
    "\n",
    "Goals:  \n",
    "- Capture local waveform patterns that tree models miss  \n",
    "- Provide a TensorFlow reference architecture before experimenting with more\n",
    "  complex ConvNeXt-style models  \n",
    "- Keep preprocessing, splits, and metrics identical to prior notebooks for an\n",
    "  apples-to-apples comparison"
   ]
  },
  {
   "cell_type": "markdown",
   "id": "271c1f90",
   "metadata": {},
   "source": [
    "## Environment setup"
   ]
  },
  {
   "cell_type": "markdown",
   "id": "ef8295fd",
   "metadata": {},
   "source": [
    "### Import libraries"
   ]
  },
  {
   "cell_type": "code",
   "execution_count": 1,
   "id": "4736d20b",
   "metadata": {},
   "outputs": [],
   "source": [
    "import random\n",
    "import numpy as np\n",
    "\n",
    "import tensorflow as tf\n",
    "from keras import layers, models    \n",
    "\n",
    "from sklearn.metrics import (\n",
    "    accuracy_score,\n",
    "    roc_auc_score,\n",
    "    average_precision_score,\n",
    "    precision_recall_fscore_support,\n",
    "    confusion_matrix,\n",
    "    ConfusionMatrixDisplay,\n",
    ")\n",
    "import matplotlib.pyplot as plt\n",
    "\n",
    "RANDOM_STATE = 2025\n",
    "tf.keras.utils.set_random_seed(RANDOM_STATE)"
   ]
  },
  {
   "cell_type": "markdown",
   "id": "bf3a58ea",
   "metadata": {},
   "source": [
    "### Load preprocessed datasets"
   ]
  },
  {
   "cell_type": "code",
   "execution_count": 2,
   "id": "63a8b2d4",
   "metadata": {},
   "outputs": [
    {
     "name": "stdout",
     "output_type": "stream",
     "text": [
      "Train : (17880, 2920, 12) Positives: 4470\n",
      "Val   : (27873, 2920, 12) Positives: 559\n",
      "Test  : (23430, 2920, 12) Positives: 1631\n"
     ]
    }
   ],
   "source": [
    "# Path to the folder containing preprocessed data\n",
    "DATA_DIR = 'data/prepared'\n",
    "\n",
    "# train = np.load(f'{DATA_DIR}/train_full_parts0-6.npz')\n",
    "train = np.load(f'{DATA_DIR}/train_bal_parts0-6_aug.npz')\n",
    "val = np.load(f'{DATA_DIR}/val_parts0-6.npz')\n",
    "test = np.load(f'{DATA_DIR}/test_external.npz')\n",
    "\n",
    "# Extract arrays and labels from the loaded data\n",
    "X_train, y_train = train['X'], train['y']\n",
    "X_val, y_val = val['X'], val['y']\n",
    "X_test, y_test = test['X'], test['y']\n",
    "\n",
    "# Check array shapes and positive counts\n",
    "print('Train :', X_train.shape,  'Positives:', y_train.sum())\n",
    "print('Val   :', X_val.shape,    'Positives:', y_val.sum())\n",
    "print('Test  :', X_test.shape,   'Positives:', y_test.sum())"
   ]
  },
  {
   "cell_type": "markdown",
   "id": "2ae86b27",
   "metadata": {},
   "source": [
    "## Modeling"
   ]
  },
  {
   "cell_type": "markdown",
   "id": "bc105681",
   "metadata": {},
   "source": [
    "### Build 1-D CNN model\n"
   ]
  },
  {
   "cell_type": "code",
   "execution_count": 3,
   "id": "2418081d",
   "metadata": {},
   "outputs": [
    {
     "name": "stdout",
     "output_type": "stream",
     "text": [
      "WARNING:tensorflow:From c:\\Users\\jak50\\anaconda3\\envs\\ds207-env\\lib\\site-packages\\keras\\src\\backend\\common\\global_state.py:82: The name tf.reset_default_graph is deprecated. Please use tf.compat.v1.reset_default_graph instead.\n",
      "\n"
     ]
    },
    {
     "name": "stderr",
     "output_type": "stream",
     "text": [
      "c:\\Users\\jak50\\anaconda3\\envs\\ds207-env\\lib\\site-packages\\keras\\src\\layers\\convolutional\\base_conv.py:113: UserWarning: Do not pass an `input_shape`/`input_dim` argument to a layer. When using Sequential models, prefer using an `Input(shape)` object as the first layer in the model instead.\n",
      "  super().__init__(activity_regularizer=activity_regularizer, **kwargs)\n"
     ]
    },
    {
     "data": {
      "text/html": [
       "<pre style=\"white-space:pre;overflow-x:auto;line-height:normal;font-family:Menlo,'DejaVu Sans Mono',consolas,'Courier New',monospace\"><span style=\"font-weight: bold\">Model: \"ecg_cnn_seq\"</span>\n",
       "</pre>\n"
      ],
      "text/plain": [
       "\u001b[1mModel: \"ecg_cnn_seq\"\u001b[0m\n"
      ]
     },
     "metadata": {},
     "output_type": "display_data"
    },
    {
     "data": {
      "text/html": [
       "<pre style=\"white-space:pre;overflow-x:auto;line-height:normal;font-family:Menlo,'DejaVu Sans Mono',consolas,'Courier New',monospace\">┏━━━━━━━━━━━━━━━━━━━━━━━━━━━━━━━━━━━┳━━━━━━━━━━━━━━━━━━━━━━━━━━┳━━━━━━━━━━━━━━━┓\n",
       "┃<span style=\"font-weight: bold\"> Layer (type)                      </span>┃<span style=\"font-weight: bold\"> Output Shape             </span>┃<span style=\"font-weight: bold\">       Param # </span>┃\n",
       "┡━━━━━━━━━━━━━━━━━━━━━━━━━━━━━━━━━━━╇━━━━━━━━━━━━━━━━━━━━━━━━━━╇━━━━━━━━━━━━━━━┩\n",
       "│ conv1d (<span style=\"color: #0087ff; text-decoration-color: #0087ff\">Conv1D</span>)                   │ (<span style=\"color: #00d7ff; text-decoration-color: #00d7ff\">None</span>, <span style=\"color: #00af00; text-decoration-color: #00af00\">2920</span>, <span style=\"color: #00af00; text-decoration-color: #00af00\">32</span>)         │         <span style=\"color: #00af00; text-decoration-color: #00af00\">2,720</span> │\n",
       "├───────────────────────────────────┼──────────────────────────┼───────────────┤\n",
       "│ batch_normalization               │ (<span style=\"color: #00d7ff; text-decoration-color: #00d7ff\">None</span>, <span style=\"color: #00af00; text-decoration-color: #00af00\">2920</span>, <span style=\"color: #00af00; text-decoration-color: #00af00\">32</span>)         │           <span style=\"color: #00af00; text-decoration-color: #00af00\">128</span> │\n",
       "│ (<span style=\"color: #0087ff; text-decoration-color: #0087ff\">BatchNormalization</span>)              │                          │               │\n",
       "├───────────────────────────────────┼──────────────────────────┼───────────────┤\n",
       "│ max_pooling1d (<span style=\"color: #0087ff; text-decoration-color: #0087ff\">MaxPooling1D</span>)      │ (<span style=\"color: #00d7ff; text-decoration-color: #00d7ff\">None</span>, <span style=\"color: #00af00; text-decoration-color: #00af00\">1460</span>, <span style=\"color: #00af00; text-decoration-color: #00af00\">32</span>)         │             <span style=\"color: #00af00; text-decoration-color: #00af00\">0</span> │\n",
       "├───────────────────────────────────┼──────────────────────────┼───────────────┤\n",
       "│ dropout (<span style=\"color: #0087ff; text-decoration-color: #0087ff\">Dropout</span>)                 │ (<span style=\"color: #00d7ff; text-decoration-color: #00d7ff\">None</span>, <span style=\"color: #00af00; text-decoration-color: #00af00\">1460</span>, <span style=\"color: #00af00; text-decoration-color: #00af00\">32</span>)         │             <span style=\"color: #00af00; text-decoration-color: #00af00\">0</span> │\n",
       "├───────────────────────────────────┼──────────────────────────┼───────────────┤\n",
       "│ conv1d_1 (<span style=\"color: #0087ff; text-decoration-color: #0087ff\">Conv1D</span>)                 │ (<span style=\"color: #00d7ff; text-decoration-color: #00d7ff\">None</span>, <span style=\"color: #00af00; text-decoration-color: #00af00\">1460</span>, <span style=\"color: #00af00; text-decoration-color: #00af00\">64</span>)         │        <span style=\"color: #00af00; text-decoration-color: #00af00\">10,304</span> │\n",
       "├───────────────────────────────────┼──────────────────────────┼───────────────┤\n",
       "│ batch_normalization_1             │ (<span style=\"color: #00d7ff; text-decoration-color: #00d7ff\">None</span>, <span style=\"color: #00af00; text-decoration-color: #00af00\">1460</span>, <span style=\"color: #00af00; text-decoration-color: #00af00\">64</span>)         │           <span style=\"color: #00af00; text-decoration-color: #00af00\">256</span> │\n",
       "│ (<span style=\"color: #0087ff; text-decoration-color: #0087ff\">BatchNormalization</span>)              │                          │               │\n",
       "├───────────────────────────────────┼──────────────────────────┼───────────────┤\n",
       "│ max_pooling1d_1 (<span style=\"color: #0087ff; text-decoration-color: #0087ff\">MaxPooling1D</span>)    │ (<span style=\"color: #00d7ff; text-decoration-color: #00d7ff\">None</span>, <span style=\"color: #00af00; text-decoration-color: #00af00\">730</span>, <span style=\"color: #00af00; text-decoration-color: #00af00\">64</span>)          │             <span style=\"color: #00af00; text-decoration-color: #00af00\">0</span> │\n",
       "├───────────────────────────────────┼──────────────────────────┼───────────────┤\n",
       "│ dropout_1 (<span style=\"color: #0087ff; text-decoration-color: #0087ff\">Dropout</span>)               │ (<span style=\"color: #00d7ff; text-decoration-color: #00d7ff\">None</span>, <span style=\"color: #00af00; text-decoration-color: #00af00\">730</span>, <span style=\"color: #00af00; text-decoration-color: #00af00\">64</span>)          │             <span style=\"color: #00af00; text-decoration-color: #00af00\">0</span> │\n",
       "├───────────────────────────────────┼──────────────────────────┼───────────────┤\n",
       "│ conv1d_2 (<span style=\"color: #0087ff; text-decoration-color: #0087ff\">Conv1D</span>)                 │ (<span style=\"color: #00d7ff; text-decoration-color: #00d7ff\">None</span>, <span style=\"color: #00af00; text-decoration-color: #00af00\">730</span>, <span style=\"color: #00af00; text-decoration-color: #00af00\">128</span>)         │        <span style=\"color: #00af00; text-decoration-color: #00af00\">41,088</span> │\n",
       "├───────────────────────────────────┼──────────────────────────┼───────────────┤\n",
       "│ batch_normalization_2             │ (<span style=\"color: #00d7ff; text-decoration-color: #00d7ff\">None</span>, <span style=\"color: #00af00; text-decoration-color: #00af00\">730</span>, <span style=\"color: #00af00; text-decoration-color: #00af00\">128</span>)         │           <span style=\"color: #00af00; text-decoration-color: #00af00\">512</span> │\n",
       "│ (<span style=\"color: #0087ff; text-decoration-color: #0087ff\">BatchNormalization</span>)              │                          │               │\n",
       "├───────────────────────────────────┼──────────────────────────┼───────────────┤\n",
       "│ max_pooling1d_2 (<span style=\"color: #0087ff; text-decoration-color: #0087ff\">MaxPooling1D</span>)    │ (<span style=\"color: #00d7ff; text-decoration-color: #00d7ff\">None</span>, <span style=\"color: #00af00; text-decoration-color: #00af00\">365</span>, <span style=\"color: #00af00; text-decoration-color: #00af00\">128</span>)         │             <span style=\"color: #00af00; text-decoration-color: #00af00\">0</span> │\n",
       "├───────────────────────────────────┼──────────────────────────┼───────────────┤\n",
       "│ dropout_2 (<span style=\"color: #0087ff; text-decoration-color: #0087ff\">Dropout</span>)               │ (<span style=\"color: #00d7ff; text-decoration-color: #00d7ff\">None</span>, <span style=\"color: #00af00; text-decoration-color: #00af00\">365</span>, <span style=\"color: #00af00; text-decoration-color: #00af00\">128</span>)         │             <span style=\"color: #00af00; text-decoration-color: #00af00\">0</span> │\n",
       "├───────────────────────────────────┼──────────────────────────┼───────────────┤\n",
       "│ conv1d_3 (<span style=\"color: #0087ff; text-decoration-color: #0087ff\">Conv1D</span>)                 │ (<span style=\"color: #00d7ff; text-decoration-color: #00d7ff\">None</span>, <span style=\"color: #00af00; text-decoration-color: #00af00\">365</span>, <span style=\"color: #00af00; text-decoration-color: #00af00\">256</span>)         │        <span style=\"color: #00af00; text-decoration-color: #00af00\">98,560</span> │\n",
       "├───────────────────────────────────┼──────────────────────────┼───────────────┤\n",
       "│ batch_normalization_3             │ (<span style=\"color: #00d7ff; text-decoration-color: #00d7ff\">None</span>, <span style=\"color: #00af00; text-decoration-color: #00af00\">365</span>, <span style=\"color: #00af00; text-decoration-color: #00af00\">256</span>)         │         <span style=\"color: #00af00; text-decoration-color: #00af00\">1,024</span> │\n",
       "│ (<span style=\"color: #0087ff; text-decoration-color: #0087ff\">BatchNormalization</span>)              │                          │               │\n",
       "├───────────────────────────────────┼──────────────────────────┼───────────────┤\n",
       "│ max_pooling1d_3 (<span style=\"color: #0087ff; text-decoration-color: #0087ff\">MaxPooling1D</span>)    │ (<span style=\"color: #00d7ff; text-decoration-color: #00d7ff\">None</span>, <span style=\"color: #00af00; text-decoration-color: #00af00\">182</span>, <span style=\"color: #00af00; text-decoration-color: #00af00\">256</span>)         │             <span style=\"color: #00af00; text-decoration-color: #00af00\">0</span> │\n",
       "├───────────────────────────────────┼──────────────────────────┼───────────────┤\n",
       "│ dropout_3 (<span style=\"color: #0087ff; text-decoration-color: #0087ff\">Dropout</span>)               │ (<span style=\"color: #00d7ff; text-decoration-color: #00d7ff\">None</span>, <span style=\"color: #00af00; text-decoration-color: #00af00\">182</span>, <span style=\"color: #00af00; text-decoration-color: #00af00\">256</span>)         │             <span style=\"color: #00af00; text-decoration-color: #00af00\">0</span> │\n",
       "├───────────────────────────────────┼──────────────────────────┼───────────────┤\n",
       "│ global_average_pooling1d          │ (<span style=\"color: #00d7ff; text-decoration-color: #00d7ff\">None</span>, <span style=\"color: #00af00; text-decoration-color: #00af00\">256</span>)              │             <span style=\"color: #00af00; text-decoration-color: #00af00\">0</span> │\n",
       "│ (<span style=\"color: #0087ff; text-decoration-color: #0087ff\">GlobalAveragePooling1D</span>)          │                          │               │\n",
       "├───────────────────────────────────┼──────────────────────────┼───────────────┤\n",
       "│ dense (<span style=\"color: #0087ff; text-decoration-color: #0087ff\">Dense</span>)                     │ (<span style=\"color: #00d7ff; text-decoration-color: #00d7ff\">None</span>, <span style=\"color: #00af00; text-decoration-color: #00af00\">1</span>)                │           <span style=\"color: #00af00; text-decoration-color: #00af00\">257</span> │\n",
       "└───────────────────────────────────┴──────────────────────────┴───────────────┘\n",
       "</pre>\n"
      ],
      "text/plain": [
       "┏━━━━━━━━━━━━━━━━━━━━━━━━━━━━━━━━━━━┳━━━━━━━━━━━━━━━━━━━━━━━━━━┳━━━━━━━━━━━━━━━┓\n",
       "┃\u001b[1m \u001b[0m\u001b[1mLayer (type)                     \u001b[0m\u001b[1m \u001b[0m┃\u001b[1m \u001b[0m\u001b[1mOutput Shape            \u001b[0m\u001b[1m \u001b[0m┃\u001b[1m \u001b[0m\u001b[1m      Param #\u001b[0m\u001b[1m \u001b[0m┃\n",
       "┡━━━━━━━━━━━━━━━━━━━━━━━━━━━━━━━━━━━╇━━━━━━━━━━━━━━━━━━━━━━━━━━╇━━━━━━━━━━━━━━━┩\n",
       "│ conv1d (\u001b[38;5;33mConv1D\u001b[0m)                   │ (\u001b[38;5;45mNone\u001b[0m, \u001b[38;5;34m2920\u001b[0m, \u001b[38;5;34m32\u001b[0m)         │         \u001b[38;5;34m2,720\u001b[0m │\n",
       "├───────────────────────────────────┼──────────────────────────┼───────────────┤\n",
       "│ batch_normalization               │ (\u001b[38;5;45mNone\u001b[0m, \u001b[38;5;34m2920\u001b[0m, \u001b[38;5;34m32\u001b[0m)         │           \u001b[38;5;34m128\u001b[0m │\n",
       "│ (\u001b[38;5;33mBatchNormalization\u001b[0m)              │                          │               │\n",
       "├───────────────────────────────────┼──────────────────────────┼───────────────┤\n",
       "│ max_pooling1d (\u001b[38;5;33mMaxPooling1D\u001b[0m)      │ (\u001b[38;5;45mNone\u001b[0m, \u001b[38;5;34m1460\u001b[0m, \u001b[38;5;34m32\u001b[0m)         │             \u001b[38;5;34m0\u001b[0m │\n",
       "├───────────────────────────────────┼──────────────────────────┼───────────────┤\n",
       "│ dropout (\u001b[38;5;33mDropout\u001b[0m)                 │ (\u001b[38;5;45mNone\u001b[0m, \u001b[38;5;34m1460\u001b[0m, \u001b[38;5;34m32\u001b[0m)         │             \u001b[38;5;34m0\u001b[0m │\n",
       "├───────────────────────────────────┼──────────────────────────┼───────────────┤\n",
       "│ conv1d_1 (\u001b[38;5;33mConv1D\u001b[0m)                 │ (\u001b[38;5;45mNone\u001b[0m, \u001b[38;5;34m1460\u001b[0m, \u001b[38;5;34m64\u001b[0m)         │        \u001b[38;5;34m10,304\u001b[0m │\n",
       "├───────────────────────────────────┼──────────────────────────┼───────────────┤\n",
       "│ batch_normalization_1             │ (\u001b[38;5;45mNone\u001b[0m, \u001b[38;5;34m1460\u001b[0m, \u001b[38;5;34m64\u001b[0m)         │           \u001b[38;5;34m256\u001b[0m │\n",
       "│ (\u001b[38;5;33mBatchNormalization\u001b[0m)              │                          │               │\n",
       "├───────────────────────────────────┼──────────────────────────┼───────────────┤\n",
       "│ max_pooling1d_1 (\u001b[38;5;33mMaxPooling1D\u001b[0m)    │ (\u001b[38;5;45mNone\u001b[0m, \u001b[38;5;34m730\u001b[0m, \u001b[38;5;34m64\u001b[0m)          │             \u001b[38;5;34m0\u001b[0m │\n",
       "├───────────────────────────────────┼──────────────────────────┼───────────────┤\n",
       "│ dropout_1 (\u001b[38;5;33mDropout\u001b[0m)               │ (\u001b[38;5;45mNone\u001b[0m, \u001b[38;5;34m730\u001b[0m, \u001b[38;5;34m64\u001b[0m)          │             \u001b[38;5;34m0\u001b[0m │\n",
       "├───────────────────────────────────┼──────────────────────────┼───────────────┤\n",
       "│ conv1d_2 (\u001b[38;5;33mConv1D\u001b[0m)                 │ (\u001b[38;5;45mNone\u001b[0m, \u001b[38;5;34m730\u001b[0m, \u001b[38;5;34m128\u001b[0m)         │        \u001b[38;5;34m41,088\u001b[0m │\n",
       "├───────────────────────────────────┼──────────────────────────┼───────────────┤\n",
       "│ batch_normalization_2             │ (\u001b[38;5;45mNone\u001b[0m, \u001b[38;5;34m730\u001b[0m, \u001b[38;5;34m128\u001b[0m)         │           \u001b[38;5;34m512\u001b[0m │\n",
       "│ (\u001b[38;5;33mBatchNormalization\u001b[0m)              │                          │               │\n",
       "├───────────────────────────────────┼──────────────────────────┼───────────────┤\n",
       "│ max_pooling1d_2 (\u001b[38;5;33mMaxPooling1D\u001b[0m)    │ (\u001b[38;5;45mNone\u001b[0m, \u001b[38;5;34m365\u001b[0m, \u001b[38;5;34m128\u001b[0m)         │             \u001b[38;5;34m0\u001b[0m │\n",
       "├───────────────────────────────────┼──────────────────────────┼───────────────┤\n",
       "│ dropout_2 (\u001b[38;5;33mDropout\u001b[0m)               │ (\u001b[38;5;45mNone\u001b[0m, \u001b[38;5;34m365\u001b[0m, \u001b[38;5;34m128\u001b[0m)         │             \u001b[38;5;34m0\u001b[0m │\n",
       "├───────────────────────────────────┼──────────────────────────┼───────────────┤\n",
       "│ conv1d_3 (\u001b[38;5;33mConv1D\u001b[0m)                 │ (\u001b[38;5;45mNone\u001b[0m, \u001b[38;5;34m365\u001b[0m, \u001b[38;5;34m256\u001b[0m)         │        \u001b[38;5;34m98,560\u001b[0m │\n",
       "├───────────────────────────────────┼──────────────────────────┼───────────────┤\n",
       "│ batch_normalization_3             │ (\u001b[38;5;45mNone\u001b[0m, \u001b[38;5;34m365\u001b[0m, \u001b[38;5;34m256\u001b[0m)         │         \u001b[38;5;34m1,024\u001b[0m │\n",
       "│ (\u001b[38;5;33mBatchNormalization\u001b[0m)              │                          │               │\n",
       "├───────────────────────────────────┼──────────────────────────┼───────────────┤\n",
       "│ max_pooling1d_3 (\u001b[38;5;33mMaxPooling1D\u001b[0m)    │ (\u001b[38;5;45mNone\u001b[0m, \u001b[38;5;34m182\u001b[0m, \u001b[38;5;34m256\u001b[0m)         │             \u001b[38;5;34m0\u001b[0m │\n",
       "├───────────────────────────────────┼──────────────────────────┼───────────────┤\n",
       "│ dropout_3 (\u001b[38;5;33mDropout\u001b[0m)               │ (\u001b[38;5;45mNone\u001b[0m, \u001b[38;5;34m182\u001b[0m, \u001b[38;5;34m256\u001b[0m)         │             \u001b[38;5;34m0\u001b[0m │\n",
       "├───────────────────────────────────┼──────────────────────────┼───────────────┤\n",
       "│ global_average_pooling1d          │ (\u001b[38;5;45mNone\u001b[0m, \u001b[38;5;34m256\u001b[0m)              │             \u001b[38;5;34m0\u001b[0m │\n",
       "│ (\u001b[38;5;33mGlobalAveragePooling1D\u001b[0m)          │                          │               │\n",
       "├───────────────────────────────────┼──────────────────────────┼───────────────┤\n",
       "│ dense (\u001b[38;5;33mDense\u001b[0m)                     │ (\u001b[38;5;45mNone\u001b[0m, \u001b[38;5;34m1\u001b[0m)                │           \u001b[38;5;34m257\u001b[0m │\n",
       "└───────────────────────────────────┴──────────────────────────┴───────────────┘\n"
      ]
     },
     "metadata": {},
     "output_type": "display_data"
    },
    {
     "data": {
      "text/html": [
       "<pre style=\"white-space:pre;overflow-x:auto;line-height:normal;font-family:Menlo,'DejaVu Sans Mono',consolas,'Courier New',monospace\"><span style=\"font-weight: bold\"> Total params: </span><span style=\"color: #00af00; text-decoration-color: #00af00\">154,849</span> (604.88 KB)\n",
       "</pre>\n"
      ],
      "text/plain": [
       "\u001b[1m Total params: \u001b[0m\u001b[38;5;34m154,849\u001b[0m (604.88 KB)\n"
      ]
     },
     "metadata": {},
     "output_type": "display_data"
    },
    {
     "data": {
      "text/html": [
       "<pre style=\"white-space:pre;overflow-x:auto;line-height:normal;font-family:Menlo,'DejaVu Sans Mono',consolas,'Courier New',monospace\"><span style=\"font-weight: bold\"> Trainable params: </span><span style=\"color: #00af00; text-decoration-color: #00af00\">153,889</span> (601.13 KB)\n",
       "</pre>\n"
      ],
      "text/plain": [
       "\u001b[1m Trainable params: \u001b[0m\u001b[38;5;34m153,889\u001b[0m (601.13 KB)\n"
      ]
     },
     "metadata": {},
     "output_type": "display_data"
    },
    {
     "data": {
      "text/html": [
       "<pre style=\"white-space:pre;overflow-x:auto;line-height:normal;font-family:Menlo,'DejaVu Sans Mono',consolas,'Courier New',monospace\"><span style=\"font-weight: bold\"> Non-trainable params: </span><span style=\"color: #00af00; text-decoration-color: #00af00\">960</span> (3.75 KB)\n",
       "</pre>\n"
      ],
      "text/plain": [
       "\u001b[1m Non-trainable params: \u001b[0m\u001b[38;5;34m960\u001b[0m (3.75 KB)\n"
      ]
     },
     "metadata": {},
     "output_type": "display_data"
    }
   ],
   "source": [
    "def build_cnn_model(seq_len=2920, n_ch=12):\n",
    "    \"\"\"Stacked Conv-BN-ReLU blocks in Sequential style.\"\"\"\n",
    "    tf.keras.backend.clear_session()\n",
    "    tf.random.set_seed(RANDOM_STATE)\n",
    "\n",
    "    # Create a Sequential model\n",
    "    model = tf.keras.Sequential(name=\"ecg_cnn_seq\")\n",
    "\n",
    "    # Input layer\n",
    "    model.add(layers.Input(shape=(seq_len, n_ch)))\n",
    "\n",
    "    # 1st conv block\n",
    "    model.add(layers.Conv1D(32, 7, padding='same',\n",
    "                            activation='relu',\n",
    "                            input_shape=(seq_len, n_ch)))\n",
    "    model.add(layers.BatchNormalization())\n",
    "    model.add(layers.MaxPooling1D(pool_size=2))\n",
    "    model.add(layers.Dropout(0.3))\n",
    "\n",
    "    # 2nd conv block\n",
    "    model.add(layers.Conv1D(64, 5, padding='same', activation='relu'))\n",
    "    model.add(layers.BatchNormalization())\n",
    "    model.add(layers.MaxPooling1D(pool_size=2))\n",
    "    model.add(layers.Dropout(0.3))\n",
    "\n",
    "    # 3rd conv block\n",
    "    model.add(layers.Conv1D(128, 5, padding='same', activation='relu'))\n",
    "    model.add(layers.BatchNormalization())\n",
    "    model.add(layers.MaxPooling1D(pool_size=2))\n",
    "    model.add(layers.Dropout(0.3))\n",
    "\n",
    "    # 4th conv block\n",
    "    model.add(layers.Conv1D(256, 3, padding='same', activation='relu'))\n",
    "    model.add(layers.BatchNormalization())\n",
    "    model.add(layers.MaxPooling1D(pool_size=2))\n",
    "    model.add(layers.Dropout(0.3))\n",
    "\n",
    "    # global pooling → sigmoid\n",
    "    model.add(layers.GlobalAveragePooling1D())\n",
    "    model.add(layers.Dense(1, activation='sigmoid'))\n",
    "\n",
    "    model.compile(\n",
    "        optimizer=tf.keras.optimizers.Adam(1e-4),\n",
    "        loss='binary_crossentropy',\n",
    "        metrics=[tf.keras.metrics.AUC(name='auroc', curve='ROC'),\n",
    "                 tf.keras.metrics.AUC(name='auprc', curve='PR')]\n",
    "    )\n",
    "\n",
    "    model.summary(line_length=80)\n",
    "    return model\n",
    "\n",
    "\n",
    "model = build_cnn_model()"
   ]
  },
  {
   "cell_type": "markdown",
   "id": "c8cb8473",
   "metadata": {},
   "source": [
    "### Train the CNN\n"
   ]
  },
  {
   "cell_type": "code",
   "execution_count": null,
   "id": "13232d64",
   "metadata": {},
   "outputs": [
    {
     "name": "stdout",
     "output_type": "stream",
     "text": [
      "Epoch 1/30\n",
      "280/280 - 332s - 1s/step - auprc: 0.5294 - auroc: 0.7476 - loss: 0.4818 - val_auprc: 0.0889 - val_auroc: 0.7859 - val_loss: 0.2638\n",
      "Epoch 2/30\n",
      "280/280 - 245s - 877ms/step - auprc: 0.5930 - auroc: 0.7975 - loss: 0.4461 - val_auprc: 0.0952 - val_auroc: 0.7983 - val_loss: 0.2765\n",
      "Epoch 3/30\n",
      "280/280 - 275s - 982ms/step - auprc: 0.6108 - auroc: 0.8089 - loss: 0.4364 - val_auprc: 0.0988 - val_auroc: 0.8041 - val_loss: 0.2947\n",
      "Epoch 4/30\n",
      "280/280 - 223s - 797ms/step - auprc: 0.6199 - auroc: 0.8155 - loss: 0.4306 - val_auprc: 0.0976 - val_auroc: 0.8062 - val_loss: 0.2802\n",
      "Epoch 5/30\n",
      "280/280 - 179s - 640ms/step - auprc: 0.6302 - auroc: 0.8215 - loss: 0.4250 - val_auprc: 0.0966 - val_auroc: 0.8066 - val_loss: 0.2806\n",
      "Epoch 6/30\n",
      "280/280 - 205s - 733ms/step - auprc: 0.6382 - auroc: 0.8237 - loss: 0.4219 - val_auprc: 0.0994 - val_auroc: 0.8100 - val_loss: 0.2833\n",
      "Epoch 7/30\n",
      "280/280 - 229s - 819ms/step - auprc: 0.6418 - auroc: 0.8275 - loss: 0.4188 - val_auprc: 0.0980 - val_auroc: 0.8085 - val_loss: 0.2795\n",
      "Epoch 8/30\n",
      "280/280 - 235s - 840ms/step - auprc: 0.6435 - auroc: 0.8293 - loss: 0.4171 - val_auprc: 0.1002 - val_auroc: 0.8119 - val_loss: 0.2687\n",
      "Epoch 9/30\n"
     ]
    }
   ],
   "source": [
    "# Convert data to float32 for training\n",
    "X_train_tf = X_train.astype('float32')\n",
    "X_val_tf   = X_val.astype('float32')\n",
    "\n",
    "# Early stopping callback \n",
    "early_stop = tf.keras.callbacks.EarlyStopping(\n",
    "    monitor='val_auroc',\n",
    "    mode='max',\n",
    "    patience=5,\n",
    "    restore_best_weights=True,\n",
    ")\n",
    "\n",
    "# Set training parameters\n",
    "EPOCHS = 30\n",
    "BATCH = 64\n",
    "\n",
    "# Train the model\n",
    "history = model.fit(\n",
    "    X_train_tf, y_train,\n",
    "    validation_data=(X_val_tf, y_val),\n",
    "    epochs=EPOCHS,\n",
    "    batch_size=BATCH,\n",
    "    callbacks=[early_stop],\n",
    "    verbose=2,\n",
    ")"
   ]
  },
  {
   "cell_type": "markdown",
   "id": "fe526631",
   "metadata": {},
   "source": [
    "### Evaluation"
   ]
  },
  {
   "cell_type": "code",
   "execution_count": null,
   "id": "1f7be5ab",
   "metadata": {},
   "outputs": [],
   "source": [
    "def keras_report(model, name, X_split, y_split, plot_cm=True):\n",
    "    \"\"\"\n",
    "    Compute metrics for a Keras binary-classifier (sigmoid output).\n",
    "    Args:\n",
    "        name (str): Name of the dataset split (e.g., 'Train', 'Validation', 'External test').\n",
    "        X_split (np.ndarray): Feature matrix for the split.\n",
    "        y_split (np.ndarray): True labels for the split.\n",
    "        plot_cm (bool): Whether to plot the confusion matrix.\n",
    "    Returns:\n",
    "        Prints the performance metrics and confusion matrix.\n",
    "    \"\"\"\n",
    "    y_prob = model.predict(X_split, verbose=0).squeeze()\n",
    "    y_pred = (y_prob >= 0.5)\n",
    "\n",
    "    acc   = accuracy_score(y_split, y_pred)\n",
    "    auroc = roc_auc_score(y_split, y_prob)\n",
    "    auprc = average_precision_score(y_split, y_prob)\n",
    "    prec, rec, f1, _ = precision_recall_fscore_support(\n",
    "        y_split, y_pred, average='binary', zero_division=0\n",
    "    )\n",
    "    tn, fp, fn, tp = confusion_matrix(y_split, y_pred).ravel()\n",
    "    specificity = tn / (tn + fp) if (tn + fp) > 0 else 0\n",
    "\n",
    "    print(f'{name} metrics')\n",
    "    print(f'  accuracy     {acc:.3f}')\n",
    "    print(f'  AUROC        {auroc:.3f}')\n",
    "    print(f'  AUPRC        {auprc:.3f}')\n",
    "    print(f'  precision    {prec:.3f}')\n",
    "    print(f'  recall       {rec:.3f}')\n",
    "    print(f'  specificity  {specificity:.3f}')\n",
    "    print(f'  F1           {f1:.3f}\\n')\n",
    "\n",
    "    if plot_cm:\n",
    "        ConfusionMatrixDisplay(\n",
    "            confusion_matrix(y_split, y_pred),\n",
    "            display_labels=['Neg', 'Pos'],\n",
    "        ).plot(cmap='Blues')\n",
    "        plt.title(f'{name} confusion matrix')\n",
    "        plt.show()"
   ]
  },
  {
   "cell_type": "code",
   "execution_count": null,
   "id": "74cbe2a7",
   "metadata": {},
   "outputs": [],
   "source": [
    "# Convert data to float32 for evaluation\n",
    "X_train_tf = X_train.astype('float32')\n",
    "X_val_tf   = X_val.astype('float32')\n",
    "X_test_tf  = X_test.astype('float32')\n",
    "\n",
    "# Evaluate the model on different splits\n",
    "keras_report(model, 'Train', X_train_tf, y_train)\n",
    "keras_report(model, 'Validation', X_val_tf, y_val)\n",
    "keras_report(model, 'External test', X_test_tf, y_test)"
   ]
  },
  {
   "cell_type": "code",
   "execution_count": null,
   "id": "88d0f3c7",
   "metadata": {},
   "outputs": [],
   "source": [
    "# Plot training curves\n",
    "plt.figure(figsize=(6,4))\n",
    "plt.plot(history.history['auroc'], label='train AUROC')\n",
    "plt.plot(history.history['val_auroc'], label='val AUROC')\n",
    "plt.xlabel('epoch')\n",
    "plt.ylabel('AUROC')\n",
    "plt.legend()\n",
    "plt.grid(True)\n",
    "plt.title('Training progress')\n",
    "plt.show()"
   ]
  }
 ],
 "metadata": {
  "kernelspec": {
   "display_name": "ds207-env",
   "language": "python",
   "name": "python3"
  },
  "language_info": {
   "codemirror_mode": {
    "name": "ipython",
    "version": 3
   },
   "file_extension": ".py",
   "mimetype": "text/x-python",
   "name": "python",
   "nbconvert_exporter": "python",
   "pygments_lexer": "ipython3",
   "version": "3.10.13"
  }
 },
 "nbformat": 4,
 "nbformat_minor": 5
}
