{
 "cells": [
  {
   "cell_type": "markdown",
   "id": "cf906477",
   "metadata": {},
   "source": [
    "# CODE-15% Dataset EDA\n",
    "\n",
    "This notebook performs exploratory data analysis on the CODE-15% ECG dataset converted to WFDB format. \n",
    "We will validate the output, extract key metadata, explore label distribution, and visualize sample ECG signals.\n"
   ]
  },
  {
   "cell_type": "markdown",
   "id": "f9f5f722",
   "metadata": {},
   "source": [
    "## Imports and setup"
   ]
  },
  {
   "cell_type": "code",
   "execution_count": 1,
   "id": "51d1ae90",
   "metadata": {},
   "outputs": [],
   "source": [
    "# Import libraries\n",
    "import os\n",
    "import wfdb\n",
    "import numpy as np\n",
    "import pandas as pd\n",
    "import random\n",
    "import matplotlib.pyplot as plt\n",
    "import pprint, re"
   ]
  },
  {
   "cell_type": "code",
   "execution_count": 2,
   "id": "4938ff19",
   "metadata": {},
   "outputs": [
    {
     "ename": "FileNotFoundError",
     "evalue": "[WinError 3] The system cannot find the path specified: 'data/code15_output/exams_part17'",
     "output_type": "error",
     "traceback": [
      "\u001b[31m---------------------------------------------------------------------------\u001b[39m",
      "\u001b[31mFileNotFoundError\u001b[39m                         Traceback (most recent call last)",
      "\u001b[36mCell\u001b[39m\u001b[36m \u001b[39m\u001b[32mIn[2]\u001b[39m\u001b[32m, line 5\u001b[39m\n\u001b[32m      2\u001b[39m data_dir = \u001b[33m\"\u001b[39m\u001b[33mdata/code15_output/exams_part17\u001b[39m\u001b[33m\"\u001b[39m\n\u001b[32m      4\u001b[39m \u001b[38;5;66;03m# Collect all header files (*.hea) in that folder\u001b[39;00m\n\u001b[32m----> \u001b[39m\u001b[32m5\u001b[39m hea_files = [f \u001b[38;5;28;01mfor\u001b[39;00m f \u001b[38;5;129;01min\u001b[39;00m \u001b[43mos\u001b[49m\u001b[43m.\u001b[49m\u001b[43mlistdir\u001b[49m\u001b[43m(\u001b[49m\u001b[43mdata_dir\u001b[49m\u001b[43m)\u001b[49m \u001b[38;5;28;01mif\u001b[39;00m f.endswith(\u001b[33m\"\u001b[39m\u001b[33m.hea\u001b[39m\u001b[33m\"\u001b[39m)]\n\u001b[32m      7\u001b[39m \u001b[38;5;66;03m# Quick sanity-check\u001b[39;00m\n\u001b[32m      8\u001b[39m \u001b[38;5;28mprint\u001b[39m(\u001b[33mf\u001b[39m\u001b[33m\"\u001b[39m\u001b[33mFound \u001b[39m\u001b[38;5;132;01m{\u001b[39;00m\u001b[38;5;28mlen\u001b[39m(hea_files)\u001b[38;5;132;01m:\u001b[39;00m\u001b[33m,\u001b[39m\u001b[38;5;132;01m}\u001b[39;00m\u001b[33m .hea files\u001b[39m\u001b[33m\"\u001b[39m)\n",
      "\u001b[31mFileNotFoundError\u001b[39m: [WinError 3] The system cannot find the path specified: 'data/code15_output/exams_part17'"
     ]
    }
   ],
   "source": [
    "# Path to the WFDB files converted from CODE-15%\n",
    "data_dir = \"data/code15_output/exams_part17\"\n",
    "\n",
    "# Collect all header files (*.hea) in that folder\n",
    "hea_files = [f for f in os.listdir(data_dir) if f.endswith(\".hea\")]\n",
    "\n",
    "# Quick sanity-check\n",
    "print(f\"Found {len(hea_files):,} .hea files\")\n",
    "print(\"First 5 headers:\", hea_files[:5])\n",
    "\n",
    "# Pick three random records to confirm the label format\n",
    "for hea in random.sample(hea_files, 3):\n",
    "    rec_name = hea[:-4]                               # strip \".hea\"\n",
    "    hdr = wfdb.rdheader(os.path.join(data_dir, rec_name))\n",
    "    \n",
    "    print(f\"\\n--- {rec_name}.hea ---\")\n",
    "    # Show the first few comment lines in the header\n",
    "    for line in hdr.comments[:6]:\n",
    "        print(line)"
   ]
  },
  {
   "cell_type": "code",
   "execution_count": null,
   "id": "c3fe089e",
   "metadata": {},
   "outputs": [
    {
     "name": "stdout",
     "output_type": "stream",
     "text": [
      "1278023 → Chagas label: False  → numeric label = 0\n",
      "204852 → Chagas label: False  → numeric label = 0\n",
      "684228 → Chagas label: False  → numeric label = 0\n"
     ]
    }
   ],
   "source": [
    "# Collect all record names (without the .hea extension)\n",
    "record_names = [f[:-4] for f in os.listdir(data_dir) if f.endswith(\".hea\")]\n",
    "\n",
    "# Function to extract the Chagas label from comments\n",
    "def get_chagas_label(comments):\n",
    "    \"\"\"\n",
    "    Return numeric label and the raw header line for inspection.\n",
    "    \"\"\"\n",
    "    for line in comments:\n",
    "        if 'Chagas label' in line:\n",
    "            llow = line.lower()\n",
    "            if 'true' in llow:\n",
    "                return 1, line.strip()\n",
    "            if 'false' in llow:\n",
    "                return 0, line.strip()\n",
    "    return None, None\n",
    "\n",
    "# Sample three random records\n",
    "for rec in random.sample(record_names, 3):\n",
    "    hdr = wfdb.rdheader(os.path.join(data_dir, rec))\n",
    "    label_num, raw_line = get_chagas_label(hdr.comments)\n",
    "    print(f\"{rec} → {raw_line}  → numeric label = {label_num}\")"
   ]
  },
  {
   "cell_type": "code",
   "execution_count": 10,
   "id": "bd4fdb8d",
   "metadata": {},
   "outputs": [
    {
     "name": "stdout",
     "output_type": "stream",
     "text": [
      "758600 → Chagas label: True  → numeric label = 1\n"
     ]
    }
   ],
   "source": [
    "# Scan up to 2 000 records to find a 'True' label\n",
    "found = None\n",
    "for rec in record_names[:2000]:\n",
    "    hdr = wfdb.rdheader(os.path.join(data_dir, rec))\n",
    "    label_num, raw_line = get_chagas_label(hdr.comments)\n",
    "    if label_num == 1:\n",
    "        found = (rec, raw_line, label_num)\n",
    "        break\n",
    "\n",
    "if found:\n",
    "    rec, raw_line, label_num = found\n",
    "    print(f\"{rec} → {raw_line}  → numeric label = {label_num}\")\n",
    "else:\n",
    "    print(\"No positive (True) labels in first 2 000 records—data is heavily imbalanced.\")\n"
   ]
  },
  {
   "cell_type": "code",
   "execution_count": 11,
   "id": "b0b3f384",
   "metadata": {},
   "outputs": [
    {
     "name": "stdout",
     "output_type": "stream",
     "text": [
      "    record  label\n",
      "0   590673      0\n",
      "1   214626      0\n",
      "2  2936711      0\n",
      "3  1175521      0\n",
      "4  1073151      0\n",
      "\n",
      "Label counts:\n",
      " label\n",
      "0    4894\n",
      "1     106\n",
      "Name: count, dtype: int64\n"
     ]
    }
   ],
   "source": [
    "# Build a DataFrame of record name + numeric Chagas label\n",
    "sample_size = 5000            # keep small for a quick first run\n",
    "records = []\n",
    "\n",
    "for rec in record_names[:sample_size]:\n",
    "    hdr         = wfdb.rdheader(os.path.join(data_dir, rec))\n",
    "    label_num, _ = get_chagas_label(hdr.comments)\n",
    "    records.append({'record': rec, 'label': label_num})\n",
    "\n",
    "df = pd.DataFrame(records)\n",
    "print(df.head())\n",
    "print(\"\\nLabel counts:\\n\", df['label'].value_counts(dropna=False))"
   ]
  },
  {
   "cell_type": "markdown",
   "id": "0f41b3ee",
   "metadata": {},
   "source": [
    "### Data preparation functions"
   ]
  },
  {
   "cell_type": "code",
   "execution_count": null,
   "id": "455750a0",
   "metadata": {},
   "outputs": [],
   "source": [
    "def get_chagas_label(comments):\n",
    "    \"\"\"Extract Chagas label.\n",
    "    Args: comments (list[str]) – header comment lines.\n",
    "    Returns: (int|None, str|None) – numeric label 0/1 and raw line.\"\"\"\n",
    "    for line in comments:\n",
    "        if 'Chagas label' in line:\n",
    "            low = line.lower()\n",
    "            if 'true' in low:  return 1, line.strip()\n",
    "            if 'false' in low: return 0, line.strip()\n",
    "    return None, None\n",
    "\n",
    "def parse_age_sex(comments):\n",
    "    \"\"\"Extract age and sex.\n",
    "    Args: comments (list[str]).\n",
    "    Returns: (int|None, str|None) – age and sex.\"\"\"\n",
    "    age = sex = None\n",
    "    for line in comments:\n",
    "        if line.lower().startswith('age:'):\n",
    "            m = re.search(r'\\d+', line)\n",
    "            age = int(m.group()) if m else None\n",
    "        if line.lower().startswith('sex:'):\n",
    "            sex = line.split(':')[-1].strip()\n",
    "    return age, sex"
   ]
  },
  {
   "cell_type": "code",
   "execution_count": null,
   "id": "183f336e",
   "metadata": {},
   "outputs": [
    {
     "name": "stdout",
     "output_type": "stream",
     "text": [
      "3408212: label=0, age=62, sex=Female | Chagas label: False\n",
      "1128109: label=0, age=29, sex=Female | Chagas label: False\n",
      "2999302: label=0, age=83, sex=Female | Chagas label: False\n",
      "2974531: label=0, age=30, sex=Female | Chagas label: False\n",
      "274006: label=0, age=85, sex=Female | Chagas label: False\n",
      "1407714: label=0, age=61, sex=Male | Chagas label: False\n",
      "4196225: label=0, age=31, sex=Male | Chagas label: False\n",
      "718428: label=0, age=30, sex=Female | Chagas label: False\n",
      "689266: label=0, age=62, sex=Female | Chagas label: False\n",
      "430967: label=0, age=71, sex=Female | Chagas label: False\n"
     ]
    }
   ],
   "source": [
    "# Test get_chagas_label and parse_age_sex on 10 random records\n",
    "subset = random.sample(record_names, 10)\n",
    "for rec in subset:\n",
    "    hdr = wfdb.rdheader(os.path.join(data_dir, rec))\n",
    "    lbl, raw = get_chagas_label(hdr.comments)\n",
    "    age, sex = parse_age_sex(hdr.comments)\n",
    "    print(f'{rec}: label={lbl}, age={age}, sex={sex} | {raw}')"
   ]
  },
  {
   "cell_type": "code",
   "execution_count": 18,
   "id": "60314acd",
   "metadata": {},
   "outputs": [
    {
     "name": "stdout",
     "output_type": "stream",
     "text": [
      "saved 19901 rows to code15_metadata_full.csv\n"
     ]
    }
   ],
   "source": [
    "# Build DataFrame of record-level metadata and save to CSV\n",
    "records = []\n",
    "for rec in record_names:\n",
    "    hdr = wfdb.rdheader(os.path.join(data_dir, rec))\n",
    "    label, _ = get_chagas_label(hdr.comments)\n",
    "    age, sex  = parse_age_sex(hdr.comments)\n",
    "    records.append({\n",
    "        'record': rec,\n",
    "        'label': label,\n",
    "        'age': age,\n",
    "        'sex': sex,\n",
    "        'fs': hdr.fs,\n",
    "        'length': hdr.sig_len,\n",
    "        'path': f'{data_dir}/{rec}',\n",
    "        'source': 'CODE15'\n",
    "    })\n",
    "\n",
    "meta = pd.DataFrame(records)\n",
    "meta.to_csv('code15_metadata_full.csv', index=False)\n",
    "print(f'saved {meta.shape[0]} rows to code15_metadata_full.csv')\n"
   ]
  },
  {
   "cell_type": "code",
   "execution_count": 19,
   "id": "2f48ce28",
   "metadata": {},
   "outputs": [
    {
     "name": "stdout",
     "output_type": "stream",
     "text": [
      "label\n",
      "0    19499\n",
      "1      402\n",
      "Name: count, dtype: int64\n"
     ]
    }
   ],
   "source": [
    "# Load the saved metadata CSV and show label counts\n",
    "meta = pd.read_csv('code15_metadata_full.csv')\n",
    "print(meta['label'].value_counts(dropna=False))"
   ]
  }
 ],
 "metadata": {
  "kernelspec": {
   "display_name": "datsci207",
   "language": "python",
   "name": "python3"
  },
  "language_info": {
   "codemirror_mode": {
    "name": "ipython",
    "version": 3
   },
   "file_extension": ".py",
   "mimetype": "text/x-python",
   "name": "python",
   "nbconvert_exporter": "python",
   "pygments_lexer": "ipython3",
   "version": "3.11.13"
  }
 },
 "nbformat": 4,
 "nbformat_minor": 5
}
