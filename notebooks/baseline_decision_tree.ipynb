{
 "cells": [
  {
   "cell_type": "code",
   "execution_count": 12,
   "id": "34f2fd86",
   "metadata": {},
   "outputs": [],
   "source": [
    "import pandas as pd\n",
    "import wfdb\n",
    "from sklearn.tree import DecisionTreeClassifier\n",
    "from sklearn.model_selection import train_test_split\n",
    "from sklearn.metrics import classification_report\n",
    "import h5py"
   ]
  },
  {
   "cell_type": "code",
   "execution_count": 11,
   "id": "ac61ed03",
   "metadata": {},
   "outputs": [
    {
     "data": {
      "application/vnd.microsoft.datawrangler.viewer.v0+json": {
       "columns": [
        {
         "name": "index",
         "rawType": "int64",
         "type": "integer"
        },
        {
         "name": "exam_id",
         "rawType": "int64",
         "type": "integer"
        },
        {
         "name": "age",
         "rawType": "int64",
         "type": "integer"
        },
        {
         "name": "is_male",
         "rawType": "bool",
         "type": "boolean"
        },
        {
         "name": "normal_ecg",
         "rawType": "bool",
         "type": "boolean"
        },
        {
         "name": "death",
         "rawType": "bool",
         "type": "boolean"
        },
        {
         "name": "timey",
         "rawType": "float64",
         "type": "float"
        },
        {
         "name": "nn_predicted_age",
         "rawType": "float64",
         "type": "float"
        }
       ],
       "ref": "03c749e5-17a1-42cd-9963-6ddf2b6f6948",
       "rows": [
        [
         "286",
         "3629",
         "54",
         "True",
         "False",
         "False",
         "1.93369952077401",
         "74.09828"
        ],
        [
         "1012",
         "4991",
         "85",
         "False",
         "False",
         "False",
         "2.24032901621103",
         "82.12608"
        ],
        [
         "1020",
         "8760",
         "29",
         "True",
         "False",
         "False",
         "2.16021860749325",
         "67.64859"
        ],
        [
         "1074",
         "18511",
         "75",
         "False",
         "False",
         "False",
         "2.43369896828843",
         "46.081425"
        ],
        [
         "514",
         "20122",
         "85",
         "False",
         "False",
         "False",
         "2.01104750160497",
         "64.30514"
        ]
       ],
       "shape": {
        "columns": 7,
        "rows": 5
       }
      },
      "text/html": [
       "<div>\n",
       "<style scoped>\n",
       "    .dataframe tbody tr th:only-of-type {\n",
       "        vertical-align: middle;\n",
       "    }\n",
       "\n",
       "    .dataframe tbody tr th {\n",
       "        vertical-align: top;\n",
       "    }\n",
       "\n",
       "    .dataframe thead th {\n",
       "        text-align: right;\n",
       "    }\n",
       "</style>\n",
       "<table border=\"1\" class=\"dataframe\">\n",
       "  <thead>\n",
       "    <tr style=\"text-align: right;\">\n",
       "      <th></th>\n",
       "      <th>exam_id</th>\n",
       "      <th>age</th>\n",
       "      <th>is_male</th>\n",
       "      <th>normal_ecg</th>\n",
       "      <th>death</th>\n",
       "      <th>timey</th>\n",
       "      <th>nn_predicted_age</th>\n",
       "    </tr>\n",
       "  </thead>\n",
       "  <tbody>\n",
       "    <tr>\n",
       "      <th>286</th>\n",
       "      <td>3629</td>\n",
       "      <td>54</td>\n",
       "      <td>True</td>\n",
       "      <td>False</td>\n",
       "      <td>False</td>\n",
       "      <td>1.933700</td>\n",
       "      <td>74.098280</td>\n",
       "    </tr>\n",
       "    <tr>\n",
       "      <th>1012</th>\n",
       "      <td>4991</td>\n",
       "      <td>85</td>\n",
       "      <td>False</td>\n",
       "      <td>False</td>\n",
       "      <td>False</td>\n",
       "      <td>2.240329</td>\n",
       "      <td>82.126080</td>\n",
       "    </tr>\n",
       "    <tr>\n",
       "      <th>1020</th>\n",
       "      <td>8760</td>\n",
       "      <td>29</td>\n",
       "      <td>True</td>\n",
       "      <td>False</td>\n",
       "      <td>False</td>\n",
       "      <td>2.160219</td>\n",
       "      <td>67.648590</td>\n",
       "    </tr>\n",
       "    <tr>\n",
       "      <th>1074</th>\n",
       "      <td>18511</td>\n",
       "      <td>75</td>\n",
       "      <td>False</td>\n",
       "      <td>False</td>\n",
       "      <td>False</td>\n",
       "      <td>2.433699</td>\n",
       "      <td>46.081425</td>\n",
       "    </tr>\n",
       "    <tr>\n",
       "      <th>514</th>\n",
       "      <td>20122</td>\n",
       "      <td>85</td>\n",
       "      <td>False</td>\n",
       "      <td>False</td>\n",
       "      <td>False</td>\n",
       "      <td>2.011048</td>\n",
       "      <td>64.305140</td>\n",
       "    </tr>\n",
       "  </tbody>\n",
       "</table>\n",
       "</div>"
      ],
      "text/plain": [
       "      exam_id  age  is_male  normal_ecg  death     timey  nn_predicted_age\n",
       "286      3629   54     True       False  False  1.933700         74.098280\n",
       "1012     4991   85    False       False  False  2.240329         82.126080\n",
       "1020     8760   29     True       False  False  2.160219         67.648590\n",
       "1074    18511   75    False       False  False  2.433699         46.081425\n",
       "514     20122   85    False       False  False  2.011048         64.305140"
      ]
     },
     "execution_count": 11,
     "metadata": {},
     "output_type": "execute_result"
    }
   ],
   "source": [
    " # Load labels\n",
    "sami_trop_df = pd.read_csv('../data/Sami-Trop.csv')\n",
    "sami_trop_df.sort_values(by='exam_id', ascending=True, inplace=True)\n",
    "sami_trop_df.head()"
   ]
  },
  {
   "cell_type": "code",
   "execution_count": 10,
   "id": "8634aa6c",
   "metadata": {},
   "outputs": [
    {
     "data": {
      "application/vnd.microsoft.datawrangler.viewer.v0+json": {
       "columns": [
        {
         "name": "index",
         "rawType": "object",
         "type": "string"
        },
        {
         "name": "0",
         "rawType": "object",
         "type": "unknown"
        }
       ],
       "ref": "4accbc7b-dd4d-4318-ae57-2e4b63054e25",
       "rows": [
        [
         "exam_id",
         "int64"
        ],
        [
         "age",
         "int64"
        ],
        [
         "is_male",
         "bool"
        ],
        [
         "normal_ecg",
         "bool"
        ],
        [
         "death",
         "bool"
        ],
        [
         "timey",
         "float64"
        ],
        [
         "nn_predicted_age",
         "float64"
        ]
       ],
       "shape": {
        "columns": 1,
        "rows": 7
       }
      },
      "text/plain": [
       "exam_id               int64\n",
       "age                   int64\n",
       "is_male                bool\n",
       "normal_ecg             bool\n",
       "death                  bool\n",
       "timey               float64\n",
       "nn_predicted_age    float64\n",
       "dtype: object"
      ]
     },
     "execution_count": 10,
     "metadata": {},
     "output_type": "execute_result"
    }
   ],
   "source": [
    "sami_trop_df.dtypes"
   ]
  },
  {
   "cell_type": "code",
   "execution_count": 13,
   "id": "0d53bd43",
   "metadata": {},
   "outputs": [
    {
     "data": {
      "text/plain": [
       "(1631, 4096, 12)"
      ]
     },
     "execution_count": 13,
     "metadata": {},
     "output_type": "execute_result"
    }
   ],
   "source": [
    "with h5py.File(\"../data/Sami-Trop.hdf5\") as f: \n",
    "    tracings = f['tracings'][:]\n",
    "tracings.shape"
   ]
  },
  {
   "cell_type": "code",
   "execution_count": 15,
   "id": "8a05950f",
   "metadata": {},
   "outputs": [
    {
     "data": {
      "image/png": "[encoded data removed]",
      "text/plain": [
       "<Figure size 640x480 with 1 Axes>"
      ]
     },
     "metadata": {},
     "output_type": "display_data"
    }
   ],
   "source": [
    "example_ecg = tracings[0]\n",
    "\n",
    "# Plot one lead\n",
    "import matplotlib.pyplot as plt\n",
    "\n",
    "plt.plot(example_ecg[:, 0])  # Lead DI\n",
    "plt.title(\"Lead DI ECG of First Patient\")\n",
    "plt.xlabel(\"Sample (at 400Hz)\")\n",
    "plt.ylabel(\"Amplitude\")\n",
    "plt.show()"
   ]
  }
 ],
 "metadata": {
  "kernelspec": {
   "display_name": "datsci207",
   "language": "python",
   "name": "python3"
  },
  "language_info": {
   "codemirror_mode": {
    "name": "ipython",
    "version": 3
   },
   "file_extension": ".py",
   "mimetype": "text/x-python",
   "name": "python",
   "nbconvert_exporter": "python",
   "pygments_lexer": "ipython3",
   "version": "3.11.13"
  }
 },
 "nbformat": 4,
 "nbformat_minor": 5
}
