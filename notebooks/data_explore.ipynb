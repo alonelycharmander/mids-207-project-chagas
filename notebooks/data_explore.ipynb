{
 "cells": [
  {
   "cell_type": "code",
   "execution_count": 13,
   "id": "a495b15f",
   "metadata": {},
   "outputs": [],
   "source": [
    "import pandas as pd\n",
    "import numpy as np\n",
    "import seaborn as sns                       #visualisation\n",
    "import matplotlib.pyplot as plt             #visualisation\n",
    "import os \n",
    "import wfdb"
   ]
  },
  {
   "cell_type": "markdown",
   "id": "7cb9b7ec",
   "metadata": {},
   "source": [
    "## Read Sami Trop Data "
   ]
  },
  {
   "cell_type": "code",
   "execution_count": 3,
   "id": "97acc88f",
   "metadata": {},
   "outputs": [
    {
     "data": {
      "application/vnd.microsoft.datawrangler.viewer.v0+json": {
       "columns": [
        {
         "name": "index",
         "rawType": "int64",
         "type": "integer"
        },
        {
         "name": "exam_id",
         "rawType": "int64",
         "type": "integer"
        },
        {
         "name": "age",
         "rawType": "int64",
         "type": "integer"
        },
        {
         "name": "is_male",
         "rawType": "bool",
         "type": "boolean"
        },
        {
         "name": "normal_ecg",
         "rawType": "bool",
         "type": "boolean"
        },
        {
         "name": "death",
         "rawType": "bool",
         "type": "boolean"
        },
        {
         "name": "timey",
         "rawType": "float64",
         "type": "float"
        },
        {
         "name": "nn_predicted_age",
         "rawType": "float64",
         "type": "float"
        }
       ],
       "ref": "4fe93a18-8f24-49d8-94df-1376ae855d74",
       "rows": [
        [
         "0",
         "294669",
         "67",
         "True",
         "False",
         "False",
         "2.11601976130413",
         "51.09311"
        ],
        [
         "1",
         "291318",
         "65",
         "True",
         "False",
         "False",
         "3.0773446659175",
         "76.923935"
        ],
        [
         "2",
         "247007",
         "67",
         "False",
         "False",
         "False",
         "2.37845041055203",
         "61.212074"
        ],
        [
         "3",
         "181629",
         "34",
         "False",
         "False",
         "False",
         "2.67679262232859",
         "56.73649"
        ],
        [
         "4",
         "250434",
         "52",
         "False",
         "False",
         "False",
         "2.11878218919095",
         "71.822754"
        ],
        [
         "5",
         "253698",
         "67",
         "False",
         "False",
         "False",
         "2.07182091511501",
         "74.28201"
        ],
        [
         "6",
         "253958",
         "76",
         "False",
         "True",
         "False",
         "2.07182091511501",
         "87.86625"
        ],
        [
         "7",
         "406936",
         "75",
         "False",
         "False",
         "False",
         "2.08010819877547",
         "83.03197"
        ],
        [
         "8",
         "250492",
         "69",
         "False",
         "False",
         "False",
         "2.08010819877547",
         "54.03106"
        ],
        [
         "9",
         "253803",
         "53",
         "False",
         "True",
         "False",
         "2.07182091511501",
         "58.985962"
        ]
       ],
       "shape": {
        "columns": 7,
        "rows": 10
       }
      },
      "text/html": [
       "<div>\n",
       "<style scoped>\n",
       "    .dataframe tbody tr th:only-of-type {\n",
       "        vertical-align: middle;\n",
       "    }\n",
       "\n",
       "    .dataframe tbody tr th {\n",
       "        vertical-align: top;\n",
       "    }\n",
       "\n",
       "    .dataframe thead th {\n",
       "        text-align: right;\n",
       "    }\n",
       "</style>\n",
       "<table border=\"1\" class=\"dataframe\">\n",
       "  <thead>\n",
       "    <tr style=\"text-align: right;\">\n",
       "      <th></th>\n",
       "      <th>exam_id</th>\n",
       "      <th>age</th>\n",
       "      <th>is_male</th>\n",
       "      <th>normal_ecg</th>\n",
       "      <th>death</th>\n",
       "      <th>timey</th>\n",
       "      <th>nn_predicted_age</th>\n",
       "    </tr>\n",
       "  </thead>\n",
       "  <tbody>\n",
       "    <tr>\n",
       "      <th>0</th>\n",
       "      <td>294669</td>\n",
       "      <td>67</td>\n",
       "      <td>True</td>\n",
       "      <td>False</td>\n",
       "      <td>False</td>\n",
       "      <td>2.116020</td>\n",
       "      <td>51.093110</td>\n",
       "    </tr>\n",
       "    <tr>\n",
       "      <th>1</th>\n",
       "      <td>291318</td>\n",
       "      <td>65</td>\n",
       "      <td>True</td>\n",
       "      <td>False</td>\n",
       "      <td>False</td>\n",
       "      <td>3.077345</td>\n",
       "      <td>76.923935</td>\n",
       "    </tr>\n",
       "    <tr>\n",
       "      <th>2</th>\n",
       "      <td>247007</td>\n",
       "      <td>67</td>\n",
       "      <td>False</td>\n",
       "      <td>False</td>\n",
       "      <td>False</td>\n",
       "      <td>2.378450</td>\n",
       "      <td>61.212074</td>\n",
       "    </tr>\n",
       "    <tr>\n",
       "      <th>3</th>\n",
       "      <td>181629</td>\n",
       "      <td>34</td>\n",
       "      <td>False</td>\n",
       "      <td>False</td>\n",
       "      <td>False</td>\n",
       "      <td>2.676793</td>\n",
       "      <td>56.736490</td>\n",
       "    </tr>\n",
       "    <tr>\n",
       "      <th>4</th>\n",
       "      <td>250434</td>\n",
       "      <td>52</td>\n",
       "      <td>False</td>\n",
       "      <td>False</td>\n",
       "      <td>False</td>\n",
       "      <td>2.118782</td>\n",
       "      <td>71.822754</td>\n",
       "    </tr>\n",
       "    <tr>\n",
       "      <th>5</th>\n",
       "      <td>253698</td>\n",
       "      <td>67</td>\n",
       "      <td>False</td>\n",
       "      <td>False</td>\n",
       "      <td>False</td>\n",
       "      <td>2.071821</td>\n",
       "      <td>74.282010</td>\n",
       "    </tr>\n",
       "    <tr>\n",
       "      <th>6</th>\n",
       "      <td>253958</td>\n",
       "      <td>76</td>\n",
       "      <td>False</td>\n",
       "      <td>True</td>\n",
       "      <td>False</td>\n",
       "      <td>2.071821</td>\n",
       "      <td>87.866250</td>\n",
       "    </tr>\n",
       "    <tr>\n",
       "      <th>7</th>\n",
       "      <td>406936</td>\n",
       "      <td>75</td>\n",
       "      <td>False</td>\n",
       "      <td>False</td>\n",
       "      <td>False</td>\n",
       "      <td>2.080108</td>\n",
       "      <td>83.031970</td>\n",
       "    </tr>\n",
       "    <tr>\n",
       "      <th>8</th>\n",
       "      <td>250492</td>\n",
       "      <td>69</td>\n",
       "      <td>False</td>\n",
       "      <td>False</td>\n",
       "      <td>False</td>\n",
       "      <td>2.080108</td>\n",
       "      <td>54.031060</td>\n",
       "    </tr>\n",
       "    <tr>\n",
       "      <th>9</th>\n",
       "      <td>253803</td>\n",
       "      <td>53</td>\n",
       "      <td>False</td>\n",
       "      <td>True</td>\n",
       "      <td>False</td>\n",
       "      <td>2.071821</td>\n",
       "      <td>58.985962</td>\n",
       "    </tr>\n",
       "  </tbody>\n",
       "</table>\n",
       "</div>"
      ],
      "text/plain": [
       "   exam_id  age  is_male  normal_ecg  death     timey  nn_predicted_age\n",
       "0   294669   67     True       False  False  2.116020         51.093110\n",
       "1   291318   65     True       False  False  3.077345         76.923935\n",
       "2   247007   67    False       False  False  2.378450         61.212074\n",
       "3   181629   34    False       False  False  2.676793         56.736490\n",
       "4   250434   52    False       False  False  2.118782         71.822754\n",
       "5   253698   67    False       False  False  2.071821         74.282010\n",
       "6   253958   76    False        True  False  2.071821         87.866250\n",
       "7   406936   75    False       False  False  2.080108         83.031970\n",
       "8   250492   69    False       False  False  2.080108         54.031060\n",
       "9   253803   53    False        True  False  2.071821         58.985962"
      ]
     },
     "execution_count": 3,
     "metadata": {},
     "output_type": "execute_result"
    }
   ],
   "source": [
    "df = pd.read_csv(\"../data/Sami-Trop.csv\")\n",
    "df.head(10)"
   ]
  },
  {
   "cell_type": "markdown",
   "id": "193d44f4",
   "metadata": {},
   "source": [
    "#### Check Types "
   ]
  },
  {
   "cell_type": "code",
   "execution_count": 4,
   "id": "f233af65",
   "metadata": {},
   "outputs": [
    {
     "data": {
      "application/vnd.microsoft.datawrangler.viewer.v0+json": {
       "columns": [
        {
         "name": "index",
         "rawType": "object",
         "type": "string"
        },
        {
         "name": "0",
         "rawType": "object",
         "type": "unknown"
        }
       ],
       "ref": "c6004720-f28f-43d4-891f-1b3ccef0f5f0",
       "rows": [
        [
         "exam_id",
         "int64"
        ],
        [
         "age",
         "int64"
        ],
        [
         "is_male",
         "bool"
        ],
        [
         "normal_ecg",
         "bool"
        ],
        [
         "death",
         "bool"
        ],
        [
         "timey",
         "float64"
        ],
        [
         "nn_predicted_age",
         "float64"
        ]
       ],
       "shape": {
        "columns": 1,
        "rows": 7
       }
      },
      "text/plain": [
       "exam_id               int64\n",
       "age                   int64\n",
       "is_male                bool\n",
       "normal_ecg             bool\n",
       "death                  bool\n",
       "timey               float64\n",
       "nn_predicted_age    float64\n",
       "dtype: object"
      ]
     },
     "execution_count": 4,
     "metadata": {},
     "output_type": "execute_result"
    }
   ],
   "source": [
    "df.dtypes"
   ]
  },
  {
   "cell_type": "code",
   "execution_count": 5,
   "id": "942f1e8d",
   "metadata": {},
   "outputs": [
    {
     "data": {
      "text/plain": [
       "(1631, 7)"
      ]
     },
     "execution_count": 5,
     "metadata": {},
     "output_type": "execute_result"
    }
   ],
   "source": [
    "df.shape"
   ]
  },
  {
   "cell_type": "code",
   "execution_count": 6,
   "id": "a26a547f",
   "metadata": {},
   "outputs": [
    {
     "name": "stdout",
     "output_type": "stream",
     "text": [
      "Duplicate Shape: (0, 7)\n"
     ]
    }
   ],
   "source": [
    "## check for duplicate rows \n",
    "\n",
    "duplicate_rows = df[df.duplicated()]\n",
    "print(\"Duplicate Shape:\", duplicate_rows.shape)\n",
    "\n",
    "## looks like no duplicate rows "
   ]
  },
  {
   "cell_type": "code",
   "execution_count": 7,
   "id": "6857002a",
   "metadata": {},
   "outputs": [
    {
     "data": {
      "application/vnd.microsoft.datawrangler.viewer.v0+json": {
       "columns": [
        {
         "name": "index",
         "rawType": "object",
         "type": "string"
        },
        {
         "name": "0",
         "rawType": "int64",
         "type": "integer"
        }
       ],
       "ref": "11b49c10-e27e-418b-89ee-aba78f18c975",
       "rows": [
        [
         "exam_id",
         "1631"
        ],
        [
         "age",
         "1631"
        ],
        [
         "is_male",
         "1631"
        ],
        [
         "normal_ecg",
         "1631"
        ],
        [
         "death",
         "1631"
        ],
        [
         "timey",
         "1631"
        ],
        [
         "nn_predicted_age",
         "1631"
        ]
       ],
       "shape": {
        "columns": 1,
        "rows": 7
       }
      },
      "text/plain": [
       "exam_id             1631\n",
       "age                 1631\n",
       "is_male             1631\n",
       "normal_ecg          1631\n",
       "death               1631\n",
       "timey               1631\n",
       "nn_predicted_age    1631\n",
       "dtype: int64"
      ]
     },
     "execution_count": 7,
     "metadata": {},
     "output_type": "execute_result"
    }
   ],
   "source": [
    "## lets get the count and check for missing columns \n",
    "\n",
    "df.count()\n",
    "## all here "
   ]
  },
  {
   "cell_type": "markdown",
   "id": "3f6d1fd7",
   "metadata": {},
   "source": [
    "### Creating simple graphs "
   ]
  },
  {
   "cell_type": "code",
   "execution_count": 8,
   "id": "ae136149",
   "metadata": {},
   "outputs": [
    {
     "data": {
      "image/png": "[encoded data removed]",
      "text/plain": [
       "<Figure size 800x600 with 1 Axes>"
      ]
     },
     "metadata": {},
     "output_type": "display_data"
    }
   ],
   "source": [
    "plt.figure(figsize=(8, 6))\n",
    "plt.hist(df[\"age\"], bins=20)\n",
    "plt.title(\"Age distrubition\")\n",
    "plt.show()"
   ]
  },
  {
   "cell_type": "code",
   "execution_count": 9,
   "id": "c39e3dc1",
   "metadata": {},
   "outputs": [
    {
     "data": {
      "image/png": "[encoded data removed]",
      "text/plain": [
       "<Figure size 800x600 with 1 Axes>"
      ]
     },
     "metadata": {},
     "output_type": "display_data"
    }
   ],
   "source": [
    "## Men v Woman \n",
    "\n",
    "x = np.arange(len(df[\"is_male\"]))\n",
    "bar_width = 0.5 \n",
    "\n",
    "grouped = df.groupby(['is_male', 'normal_ecg']).size().unstack(fill_value=0)\n",
    "for val in [True, False]:\n",
    "    if val not in grouped.columns:\n",
    "        grouped[val] = 0\n",
    "\n",
    "# Prepare data\n",
    "men_positive = grouped.loc[True, True] if True in grouped.index else 0\n",
    "men_negative = grouped.loc[True, False] if True in grouped.index else 0\n",
    "women_positive = grouped.loc[False, True] if False in grouped.index else 0\n",
    "women_negative = grouped.loc[False, False] if False in grouped.index else 0\n",
    "\n",
    "labels = ['Men', 'Women']\n",
    "positives = [men_positive, women_positive]\n",
    "negatives = [men_negative, women_negative]\n",
    "\n",
    "x = range(len(labels))\n",
    "bar_width = 0.5\n",
    "\n",
    "# Plotting\n",
    "fig, ax = plt.subplots(figsize=(8, 6))\n",
    "\n",
    "ax.bar(x, positives, bar_width, label='Normal', color='red')\n",
    "ax.bar(x, negatives, bar_width, bottom=positives, label='non-Normal', color='blue')\n",
    "\n",
    "# Labeling\n",
    "ax.set_xticks(x)\n",
    "ax.set_xticklabels(labels)\n",
    "ax.set_ylabel('Count')\n",
    "ax.set_title('Stacked Counts of Normal and non-Normal by Gender')\n",
    "ax.legend()\n",
    "\n",
    "plt.tight_layout()\n",
    "plt.show()"
   ]
  },
  {
   "cell_type": "code",
   "execution_count": 10,
   "id": "787ec977",
   "metadata": {},
   "outputs": [
    {
     "data": {
      "text/plain": [
       "(286, 7)"
      ]
     },
     "execution_count": 10,
     "metadata": {},
     "output_type": "execute_result"
    }
   ],
   "source": [
    "positive_df = df[df['normal_ecg'] == True]\n",
    "positive_df.shape"
   ]
  },
  {
   "cell_type": "markdown",
   "id": "2a5f724a",
   "metadata": {},
   "source": [
    "## Lets Read the HDF5 file  "
   ]
  },
  {
   "cell_type": "code",
   "execution_count": null,
   "id": "f2a2e97d",
   "metadata": {},
   "outputs": [],
   "source": [
    "\n",
    "# # path to the files \n",
    "# folder_path = '../data/wfdb_output'\n",
    "\n",
    "# # Get all .hea files to extract the record names\n",
    "# record_names = [f[:-4] for f in os.listdir(folder_path) if f.endswith('.hea')]\n",
    "\n",
    "# # Loop over each record\n",
    "# for record_name in record_names:\n",
    "#     record_path = os.path.join(folder_path, record_name )\n",
    "#     record_path += '.hea'\n",
    "#     try:\n",
    "#         # Read the record\n",
    "#         print(record_path)\n",
    "#         record = wfdb.rdrecord(record_path)\n",
    "        \n",
    "#         print(f\"\\n✅ Loaded: {record_name}\")\n",
    "#         print(f\"  - Sampling frequency: {record.fs}\")\n",
    "#         print(f\"  - Signal shape: {record.p_signal.shape}\")\n",
    "#         print(f\"  - Channel names: {record.sig_name}\")\n",
    "\n",
    "#         # Quick plot of first 1000 samples of first channel\n",
    "#         plt.figure(figsize=(10, 2))\n",
    "#         plt.plot(record.p_signal[:1000, 0])\n",
    "#         plt.title(f'{record_name} - Channel: {record.sig_name[0]}')\n",
    "#         plt.xlabel('Sample')\n",
    "#         plt.ylabel('Amplitude (mV)')\n",
    "#         plt.tight_layout()\n",
    "#         plt.show()\n",
    "\n",
    "#     except Exception as e:\n",
    "#         print(f\"❌ Failed to read {record_name}: {e}\")\n",
    "\n"
   ]
  },
  {
   "cell_type": "code",
   "execution_count": 26,
   "id": "1a106d1c",
   "metadata": {},
   "outputs": [
    {
     "name": "stdout",
     "output_type": "stream",
     "text": [
      "\n",
      "✅ Loaded: record_1630\n",
      "  - Sampling frequency: 400\n",
      "  - Signal shape: (4096, 12)\n",
      "  - Channel names: ['DI', 'DII', 'DIII', 'AVR', 'AVL', 'AVF', 'V1', 'V2', 'V3', 'V4', 'V5', 'V6']\n"
     ]
    },
    {
     "data": {
      "image/png": "[encoded data removed]",
      "text/plain": [
       "<Figure size 1000x200 with 1 Axes>"
      ]
     },
     "metadata": {},
     "output_type": "display_data"
    }
   ],
   "source": [
    "try:\n",
    "    record = wfdb.rdrecord(\"../data/wfdb_output/record_0000\")\n",
    "    print(f\"\\n✅ Loaded: {record_name}\")\n",
    "    print(f\"  - Sampling frequency: {record.fs}\")\n",
    "    print(f\"  - Signal shape: {record.p_signal.shape}\")\n",
    "    print(f\"  - Channel names: {record.sig_name}\")\n",
    "\n",
    "    # Quick plot of first 1000 samples of first channel\n",
    "    plt.figure(figsize=(10, 2))\n",
    "    plt.plot(record.p_signal[:1000, 0])\n",
    "    plt.title(f'{record_name} - Channel: {record.sig_name[0]}')\n",
    "    plt.xlabel('Sample')\n",
    "    plt.ylabel('Amplitude (mV)')\n",
    "    plt.tight_layout()\n",
    "    plt.show()\n",
    "except Exception as e:\n",
    "    print(f\"❌ Failed to read {record_name}: {e}\")"
   ]
  }
 ],
 "metadata": {
  "kernelspec": {
   "display_name": "datsci207",
   "language": "python",
   "name": "python3"
  },
  "language_info": {
   "codemirror_mode": {
    "name": "ipython",
    "version": 3
   },
   "file_extension": ".py",
   "mimetype": "text/x-python",
   "name": "python",
   "nbconvert_exporter": "python",
   "pygments_lexer": "ipython3",
   "version": "3.11.13"
  }
 },
 "nbformat": 4,
 "nbformat_minor": 5
}
